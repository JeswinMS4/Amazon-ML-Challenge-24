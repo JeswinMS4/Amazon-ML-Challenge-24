{
  "nbformat": 4,
  "nbformat_minor": 0,
  "metadata": {
    "colab": {
      "provenance": []
    },
    "kernelspec": {
      "name": "python3",
      "display_name": "Python 3"
    },
    "language_info": {
      "name": "python"
    }
  },
  "cells": [
    {
      "cell_type": "code",
      "source": [
        "import pandas as pd\n",
        "import os\n",
        "\n",
        "def split_by_entity_and_batch(file_path, output_folder):\n",
        "    # Create output folder if it doesn't exist\n",
        "    os.makedirs(output_folder, exist_ok=True)\n",
        "\n",
        "    # Step 1: Load the CSV file\n",
        "    df = pd.read_csv(file_path)\n",
        "\n",
        "    # Step 2: Group by entity_name\n",
        "    grouped = df.groupby('entity_name')\n",
        "\n",
        "    # Step 3: Process each group\n",
        "    for entity, group_df in grouped:\n",
        "        # Step 4: Split into batches of 20,000 rows\n",
        "        num_rows = len(group_df)\n",
        "        batch_size = 1000\n",
        "        num_batches = num_rows // batch_size\n",
        "        leftover_rows = num_rows % batch_size\n",
        "\n",
        "        for batch in range(num_batches):\n",
        "            # Get the batch rows\n",
        "            batch_df = group_df.iloc[batch * batch_size:(batch + 1) * batch_size]\n",
        "            # Save each batch to a CSV file\n",
        "            batch_df.to_csv(f'{output_folder}/{entity}_batch_{batch + 1}.csv', index=False)\n",
        "\n",
        "        # Step 5: Save leftover rows (if any)\n",
        "        if leftover_rows > 0:\n",
        "            leftover_df = group_df.iloc[num_batches * batch_size:]\n",
        "            leftover_df.to_csv(f'{output_folder}/{entity}_leftover.csv', index=False)\n",
        "\n",
        "# Example usage\n",
        "file_path = 'test.csv'  # Replace with your file path\n",
        "output_folder = 'split_data_2'  # Directory to save the split files\n",
        "split_by_entity_and_batch(file_path, output_folder)\n"
      ],
      "metadata": {
        "id": "f4nLHxw_BEV6"
      },
      "execution_count": null,
      "outputs": []
    },
    {
      "cell_type": "code",
      "source": [
        "import shutil\n",
        "from google.colab import files\n",
        "\n",
        "# Step 1: Zip the folder\n",
        "shutil.make_archive('split_data_2', 'zip', 'split_data_2')\n",
        "\n",
        "# Step 2: Download the zipped folder\n",
        "files.download('split_data_2.zip')"
      ],
      "metadata": {
        "colab": {
          "base_uri": "https://localhost:8080/",
          "height": 17
        },
        "id": "TloJWOv-EmYX",
        "outputId": "f3bccbce-c4c9-4a74-b703-f4bcf75fa86f"
      },
      "execution_count": null,
      "outputs": [
        {
          "output_type": "display_data",
          "data": {
            "text/plain": [
              "<IPython.core.display.Javascript object>"
            ],
            "application/javascript": [
              "\n",
              "    async function download(id, filename, size) {\n",
              "      if (!google.colab.kernel.accessAllowed) {\n",
              "        return;\n",
              "      }\n",
              "      const div = document.createElement('div');\n",
              "      const label = document.createElement('label');\n",
              "      label.textContent = `Downloading \"${filename}\": `;\n",
              "      div.appendChild(label);\n",
              "      const progress = document.createElement('progress');\n",
              "      progress.max = size;\n",
              "      div.appendChild(progress);\n",
              "      document.body.appendChild(div);\n",
              "\n",
              "      const buffers = [];\n",
              "      let downloaded = 0;\n",
              "\n",
              "      const channel = await google.colab.kernel.comms.open(id);\n",
              "      // Send a message to notify the kernel that we're ready.\n",
              "      channel.send({})\n",
              "\n",
              "      for await (const message of channel.messages) {\n",
              "        // Send a message to notify the kernel that we're ready.\n",
              "        channel.send({})\n",
              "        if (message.buffers) {\n",
              "          for (const buffer of message.buffers) {\n",
              "            buffers.push(buffer);\n",
              "            downloaded += buffer.byteLength;\n",
              "            progress.value = downloaded;\n",
              "          }\n",
              "        }\n",
              "      }\n",
              "      const blob = new Blob(buffers, {type: 'application/binary'});\n",
              "      const a = document.createElement('a');\n",
              "      a.href = window.URL.createObjectURL(blob);\n",
              "      a.download = filename;\n",
              "      div.appendChild(a);\n",
              "      a.click();\n",
              "      div.remove();\n",
              "    }\n",
              "  "
            ]
          },
          "metadata": {}
        },
        {
          "output_type": "display_data",
          "data": {
            "text/plain": [
              "<IPython.core.display.Javascript object>"
            ],
            "application/javascript": [
              "download(\"download_ca465365-e7d4-4fcc-a875-a413302a85cc\", \"split_data_2.zip\", 1805393)"
            ]
          },
          "metadata": {}
        }
      ]
    }
  ]
}